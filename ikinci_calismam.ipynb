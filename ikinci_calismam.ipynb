{
 "cells": [
  {
   "cell_type": "code",
   "execution_count": 1,
   "id": "1e6fcf5e-58b7-47e7-aa67-b89690e2a995",
   "metadata": {},
   "outputs": [],
   "source": [
    "import numpy as np #numpy kütüphanesini np takma adı ile projeye dagil ediyoruz"
   ]
  },
  {
   "cell_type": "code",
   "execution_count": 40,
   "id": "d47c9e1d-80ed-4153-bb3d-d19cc2883619",
   "metadata": {},
   "outputs": [
    {
     "data": {
      "text/plain": [
       "array([[5, 5, 5],\n",
       "       [5, 5, 5],\n",
       "       [5, 5, 5],\n",
       "       [5, 5, 5]])"
      ]
     },
     "execution_count": 40,
     "metadata": {},
     "output_type": "execute_result"
    }
   ],
   "source": [
    "dizi=np.full((4,3),5) # 4 satır 3 sütunluk oluşan 5ten oluşan dizi\n",
    "dizi"
   ]
  },
  {
   "cell_type": "code",
   "execution_count": 9,
   "id": "1e2d77ac-e1d0-433e-9b08-646b6df5c135",
   "metadata": {},
   "outputs": [
    {
     "data": {
      "text/plain": [
       "array([1, 2, 3])"
      ]
     },
     "execution_count": 9,
     "metadata": {},
     "output_type": "execute_result"
    }
   ],
   "source": [
    "#yeni bir numpy dizisi olusturuyoruz\n",
    "np.array([1,2,3])"
   ]
  },
  {
   "cell_type": "code",
   "execution_count": 10,
   "id": "94457f26-6f84-4184-b762-dc68840f5e34",
   "metadata": {},
   "outputs": [],
   "source": [
    "#olusturdugumuz diziyi bir değişkene aktarıyoruz\n",
    "dizi=np.array([\"elma\",\"erik\",\"iğde\"])"
   ]
  },
  {
   "cell_type": "code",
   "execution_count": 11,
   "id": "b96b91cb-d22e-4919-b9c4-8a4f50ef0a64",
   "metadata": {},
   "outputs": [
    {
     "data": {
      "text/plain": [
       "array(['elma', 'erik', 'iğde'], dtype='<U4')"
      ]
     },
     "execution_count": 11,
     "metadata": {},
     "output_type": "execute_result"
    }
   ],
   "source": [
    "dizi"
   ]
  },
  {
   "cell_type": "code",
   "execution_count": 12,
   "id": "f2973d96-984a-4b7e-9892-78145032c35c",
   "metadata": {},
   "outputs": [],
   "source": [
    "dizi=np.array([1,2,3])"
   ]
  },
  {
   "cell_type": "code",
   "execution_count": 13,
   "id": "8271f70e-294d-4ab9-a551-cdc2c1c7fd7b",
   "metadata": {},
   "outputs": [],
   "source": [
    "dizi=np.array([1,2,3.14])"
   ]
  },
  {
   "cell_type": "code",
   "execution_count": 14,
   "id": "f3791d13-3bc1-4ef6-b916-adac8a117766",
   "metadata": {},
   "outputs": [
    {
     "data": {
      "text/plain": [
       "dtype('float64')"
      ]
     },
     "execution_count": 14,
     "metadata": {},
     "output_type": "execute_result"
    }
   ],
   "source": [
    "dizi.dtype#dizinin değişken türünü verir.numpy dizilerinde elemanların hepsi aynı türdendir"
   ]
  },
  {
   "cell_type": "code",
   "execution_count": 16,
   "id": "186b991b-3c09-416a-bc57-016cf9b4beeb",
   "metadata": {},
   "outputs": [],
   "source": [
    "dizi=np.array([1,2,3.14],dtype=int)"
   ]
  },
  {
   "cell_type": "markdown",
   "id": "4d3bcf96-5c41-4711-826f-10cc576d6666",
   "metadata": {},
   "source": [
    "**numpy ile farklı boyutlarda dizi oluşturma**"
   ]
  },
  {
   "cell_type": "code",
   "execution_count": 19,
   "id": "08522fb2-2d67-483f-be7a-54b755802ffe",
   "metadata": {},
   "outputs": [],
   "source": [
    "#bir boyutlu dizi oluşturma\n",
    "birboyut=np.array([1,2,3,4])\n",
    "#iki boyutlu dizi oluşturma\n",
    "ikiboyut=np.array([[1,2,3,4],[5,6,7,8],[9,10,11,12]])"
   ]
  },
  {
   "cell_type": "code",
   "execution_count": 20,
   "id": "c4f3c936-c287-474e-9dc7-659fb4b587a4",
   "metadata": {},
   "outputs": [
    {
     "data": {
      "text/plain": [
       "array([1, 2, 3, 4])"
      ]
     },
     "execution_count": 20,
     "metadata": {},
     "output_type": "execute_result"
    }
   ],
   "source": [
    "birboyut"
   ]
  },
  {
   "cell_type": "code",
   "execution_count": 21,
   "id": "62395a61-4549-4eda-b762-54a031e4e43c",
   "metadata": {},
   "outputs": [
    {
     "data": {
      "text/plain": [
       "array([[ 1,  2,  3,  4],\n",
       "       [ 5,  6,  7,  8],\n",
       "       [ 9, 10, 11, 12]])"
      ]
     },
     "execution_count": 21,
     "metadata": {},
     "output_type": "execute_result"
    }
   ],
   "source": [
    "ikiboyut"
   ]
  },
  {
   "cell_type": "markdown",
   "id": "fd7007e9-93fa-46d4-99c0-0e8d96244392",
   "metadata": {},
   "source": [
    "**numpy yer tutucular**"
   ]
  },
  {
   "cell_type": "code",
   "execution_count": 22,
   "id": "b20a6715-065f-4840-b7b4-fb5908ec3934",
   "metadata": {},
   "outputs": [
    {
     "data": {
      "text/plain": [
       "array([0., 0., 0., 0., 0., 0., 0.])"
      ]
     },
     "execution_count": 22,
     "metadata": {},
     "output_type": "execute_result"
    }
   ],
   "source": [
    "np.zeros(7) #7 sıfırdan oluşan tek boyutlou dizi oluşturur"
   ]
  },
  {
   "cell_type": "code",
   "execution_count": 26,
   "id": "4fff5e2d-d4cc-4363-837a-f021facd7036",
   "metadata": {},
   "outputs": [
    {
     "data": {
      "text/plain": [
       "array([[0, 0, 0],\n",
       "       [0, 0, 0]])"
      ]
     },
     "execution_count": 26,
     "metadata": {},
     "output_type": "execute_result"
    }
   ],
   "source": [
    "np.zeros((2,3),dtype=int) #sıfırdan oluşan 2 boyutlu int dizi olusturur"
   ]
  },
  {
   "cell_type": "code",
   "execution_count": 27,
   "id": "7d1f45c6-853f-411e-bf42-d28a68eda596",
   "metadata": {},
   "outputs": [
    {
     "data": {
      "text/plain": [
       "array([1., 1., 1.])"
      ]
     },
     "execution_count": 27,
     "metadata": {},
     "output_type": "execute_result"
    }
   ],
   "source": [
    "np.ones(3)"
   ]
  },
  {
   "cell_type": "code",
   "execution_count": 28,
   "id": "ec8f49cd-0d31-4af8-9eb2-757aee089c81",
   "metadata": {},
   "outputs": [
    {
     "data": {
      "text/plain": [
       "array([[5, 5, 5],\n",
       "       [5, 5, 5],\n",
       "       [5, 5, 5],\n",
       "       [5, 5, 5]])"
      ]
     },
     "execution_count": 28,
     "metadata": {},
     "output_type": "execute_result"
    }
   ],
   "source": [
    "np.full((4,3),5) #5 sayısından oluşan 2*3 lük dizi"
   ]
  },
  {
   "cell_type": "code",
   "execution_count": 30,
   "id": "88f377ad-b083-4b51-a1a2-67a6d61f508b",
   "metadata": {},
   "outputs": [
    {
     "data": {
      "text/plain": [
       "array([ 2,  7, 12, 17])"
      ]
     },
     "execution_count": 30,
     "metadata": {},
     "output_type": "execute_result"
    }
   ],
   "source": [
    "np.arange(2,22,5) #bşlangiç,bitiş ve artış değerine göre dizi oluşturma"
   ]
  },
  {
   "cell_type": "code",
   "execution_count": 31,
   "id": "699f59b5-0e80-47b1-a32b-2d99aa006d81",
   "metadata": {},
   "outputs": [
    {
     "data": {
      "text/plain": [
       "array([ 2.        ,  3.33333333,  4.66666667,  6.        ,  7.33333333,\n",
       "        8.66666667, 10.        ])"
      ]
     },
     "execution_count": 31,
     "metadata": {},
     "output_type": "execute_result"
    }
   ],
   "source": [
    "np.linspace(2,10,num=7) #başlangıç ve bitiş değeri aralığında belirtilen miktarda eşit aralık "
   ]
  },
  {
   "cell_type": "code",
   "execution_count": 34,
   "id": "228f4eef-e624-4902-8e39-dcc131b70f3a",
   "metadata": {},
   "outputs": [
    {
     "data": {
      "text/plain": [
       "array([4, 2, 9, 4, 0])"
      ]
     },
     "execution_count": 34,
     "metadata": {},
     "output_type": "execute_result"
    }
   ],
   "source": [
    "np.random.randint(0,10,5) # 0-10 aralığında rastgele 5 sayıdan oluşan bir boyutlu dizi"
   ]
  },
  {
   "cell_type": "code",
   "execution_count": 35,
   "id": "4dc3ae2f-bd65-4314-bd14-7efdd45c58ea",
   "metadata": {},
   "outputs": [
    {
     "data": {
      "text/plain": [
       "array([[3, 8],\n",
       "       [5, 5],\n",
       "       [5, 7],\n",
       "       [3, 7],\n",
       "       [8, 2]])"
      ]
     },
     "execution_count": 35,
     "metadata": {},
     "output_type": "execute_result"
    }
   ],
   "source": [
    "np.random.randint(0,10,(5,2)) #0-10 araluğında 5*2 ratgele sayıdan oluşan 2 boyutlu dizi"
   ]
  },
  {
   "cell_type": "markdown",
   "id": "c8b7450f-4b63-4cb5-82a2-69a119448d3e",
   "metadata": {},
   "source": [
    "**diziler ile ilgili işlemler**"
   ]
  },
  {
   "cell_type": "code",
   "execution_count": 36,
   "id": "61065b2f-55a1-4d2c-bad5-58ce806eccf2",
   "metadata": {},
   "outputs": [
    {
     "data": {
      "text/plain": [
       "(3, 4)"
      ]
     },
     "execution_count": 36,
     "metadata": {},
     "output_type": "execute_result"
    }
   ],
   "source": [
    "#dizilerin eleman sayısıın öğrenmek için shape komutu kullanılır\n",
    "dizi=np.array([[1,2,3,4],[5,6,7,8],[9,10,1,12]])\n",
    "dizi.shape"
   ]
  },
  {
   "cell_type": "code",
   "execution_count": 37,
   "id": "b308f571-2ba7-4a3b-81e1-55f7cbf81ab0",
   "metadata": {},
   "outputs": [
    {
     "data": {
      "text/plain": [
       "2"
      ]
     },
     "execution_count": 37,
     "metadata": {},
     "output_type": "execute_result"
    }
   ],
   "source": [
    "#ndim dizi boyutunu öğrenmek için kullanılır\n",
    "dizi.ndim"
   ]
  },
  {
   "cell_type": "code",
   "execution_count": 38,
   "id": "e9d0d54f-3e2e-40b9-b8df-ee72f1a53f97",
   "metadata": {},
   "outputs": [
    {
     "data": {
      "text/plain": [
       "12"
      ]
     },
     "execution_count": 38,
     "metadata": {},
     "output_type": "execute_result"
    }
   ],
   "source": [
    "#size dizideki toplam elemansayısını gösterir\n",
    "dizi.size"
   ]
  },
  {
   "cell_type": "code",
   "execution_count": 39,
   "id": "b22552d5-f734-4df9-8387-9bc7493f375d",
   "metadata": {},
   "outputs": [
    {
     "data": {
      "text/plain": [
       "4"
      ]
     },
     "execution_count": 39,
     "metadata": {},
     "output_type": "execute_result"
    }
   ],
   "source": [
    "dizi.itemsize #dizideki her bir elemanın bayt cinsinden değerini verir "
   ]
  },
  {
   "cell_type": "code",
   "execution_count": null,
   "id": "fd683432-a271-42f9-baee-2fa407ddb7c1",
   "metadata": {},
   "outputs": [],
   "source": []
  }
 ],
 "metadata": {
  "kernelspec": {
   "display_name": "Python 3 (ipykernel)",
   "language": "python",
   "name": "python3"
  },
  "language_info": {
   "codemirror_mode": {
    "name": "ipython",
    "version": 3
   },
   "file_extension": ".py",
   "mimetype": "text/x-python",
   "name": "python",
   "nbconvert_exporter": "python",
   "pygments_lexer": "ipython3",
   "version": "3.11.7"
  }
 },
 "nbformat": 4,
 "nbformat_minor": 5
}
